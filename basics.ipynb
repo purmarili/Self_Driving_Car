{
 "cells": [
  {
   "cell_type": "code",
   "execution_count": 46,
   "metadata": {},
   "outputs": [
    {
     "name": "stdout",
     "output_type": "stream",
     "text": [
      "[[0 1 4 5]\n",
      " [2 3 6 7]]\n"
     ]
    }
   ],
   "source": [
    "import numpy as np\n",
    "\n",
    "x = np.arange(3)\n",
    "y = np.arange(3, 6)\n",
    "z = np.arange(6, 9)\n",
    "\n",
    "multi_array = np.array([x, y, z], dtype = np.int64)\n",
    "# print(multi_array)\n",
    "# print(multi_array.shape)\n",
    "# print(multi_array.dtype)\n",
    "\n",
    "# x = np.arange(9).reshape(3, 3)\n",
    "# print(x)\n",
    "\n",
    "# x = np.arange(18).reshape(2, 3, 3)\n",
    "# print(x)\n",
    "\n",
    "# np.eye(3)\n",
    "\n",
    "# np.random.rand(3, 3)\n",
    "\n",
    "# w = np.linspace(1, 10, 50, False)\n",
    "# print(w)\n",
    "# b = np.arange(1, 30, 3)\n",
    "# b\n",
    "\n",
    "# mat_a = np.matrix([0, 3, 5, 5, 5, 2]).reshape(2, 3)\n",
    "# mat_b = np.matrix([3, 4, 3, -2, 4, -2]).reshape(3, 2)\n",
    "# product = np.matmul(mat_a, mat_b)\n",
    "# mat_a @ mat_b\n",
    "\n",
    "x = np.arange(4).reshape(2, 2)\n",
    "y = np.arange(4, 8).reshape(2, 2)\n",
    "z = np.concatenate((x, y), axis = 1)\n",
    "print "
   ]
  },
  {
   "cell_type": "code",
   "execution_count": null,
   "metadata": {},
   "outputs": [],
   "source": []
  }
 ],
 "metadata": {
  "kernelspec": {
   "display_name": "Python 3",
   "language": "python",
   "name": "python3"
  },
  "language_info": {
   "codemirror_mode": {
    "name": "ipython",
    "version": 3
   },
   "file_extension": ".py",
   "mimetype": "text/x-python",
   "name": "python",
   "nbconvert_exporter": "python",
   "pygments_lexer": "ipython3",
   "version": "3.8.3"
  }
 },
 "nbformat": 4,
 "nbformat_minor": 4
}
